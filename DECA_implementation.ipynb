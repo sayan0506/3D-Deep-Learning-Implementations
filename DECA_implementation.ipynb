{
  "nbformat": 4,
  "nbformat_minor": 0,
  "metadata": {
    "colab": {
      "name": "DECA implementation.ipynb",
      "provenance": [],
      "toc_visible": true,
      "mount_file_id": "https://github.com/sayan0506/DECA-implementation/blob/main/DECA_implementation.ipynb",
      "authorship_tag": "ABX9TyNfePUwpZbgFCWogs/cW167",
      "include_colab_link": true
    },
    "kernelspec": {
      "name": "python3",
      "display_name": "Python 3"
    },
    "language_info": {
      "name": "python"
    },
    "accelerator": "GPU"
  },
  "cells": [
    {
      "cell_type": "markdown",
      "metadata": {
        "id": "view-in-github",
        "colab_type": "text"
      },
      "source": [
        "<a href=\"https://colab.research.google.com/github/sayan0506/DECA-implementation/blob/main/DECA_implementation.ipynb\" target=\"_parent\"><img src=\"https://colab.research.google.com/assets/colab-badge.svg\" alt=\"Open In Colab\"/></a>"
      ]
    },
    {
      "cell_type": "markdown",
      "metadata": {
        "id": "mej60BWLnGug"
      },
      "source": [
        "# **Implement DECA(Detailed Expression Capture and Animation)**"
      ]
    },
    {
      "cell_type": "markdown",
      "metadata": {
        "id": "4YbDNB03nmI4"
      },
      "source": [
        "Notebook included pretrained model implementatio n from DECA git repository "
      ]
    },
    {
      "cell_type": "markdown",
      "metadata": {
        "id": "tlWVk4w_numC"
      },
      "source": [
        "## GPU configuration check"
      ]
    },
    {
      "cell_type": "code",
      "metadata": {
        "colab": {
          "base_uri": "https://localhost:8080/"
        },
        "id": "bIZ0MI64-PGZ",
        "outputId": "78e103b8-20c3-4353-cb37-67c19fdd343b"
      },
      "source": [
        "!ln -sf /opt/bin/nvidia-smi /usr/bin/nvidia-smi\n",
        "import subprocess\n",
        "print(subprocess.getoutput('nvidia-smi'))"
      ],
      "execution_count": 2,
      "outputs": [
        {
          "output_type": "stream",
          "text": [
            "Sun Apr 18 09:27:11 2021       \n",
            "+-----------------------------------------------------------------------------+\n",
            "| NVIDIA-SMI 460.32.03    Driver Version: 460.32.03    CUDA Version: 11.2     |\n",
            "|-------------------------------+----------------------+----------------------+\n",
            "| GPU  Name        Persistence-M| Bus-Id        Disp.A | Volatile Uncorr. ECC |\n",
            "| Fan  Temp  Perf  Pwr:Usage/Cap|         Memory-Usage | GPU-Util  Compute M. |\n",
            "|                               |                      |               MIG M. |\n",
            "|===============================+======================+======================|\n",
            "|   0  Tesla T4            Off  | 00000000:00:04.0 Off |                    0 |\n",
            "| N/A   42C    P8    10W /  70W |      0MiB / 15109MiB |      0%      Default |\n",
            "|                               |                      |                  N/A |\n",
            "+-------------------------------+----------------------+----------------------+\n",
            "                                                                               \n",
            "+-----------------------------------------------------------------------------+\n",
            "| Processes:                                                                  |\n",
            "|  GPU   GI   CI        PID   Type   Process name                  GPU Memory |\n",
            "|        ID   ID                                                   Usage      |\n",
            "|=============================================================================|\n",
            "|  No running processes found                                                 |\n",
            "+-----------------------------------------------------------------------------+\n"
          ],
          "name": "stdout"
        }
      ]
    },
    {
      "cell_type": "markdown",
      "metadata": {
        "id": "yuW2oS7A_F3R"
      },
      "source": [
        "## Check ffmpeg"
      ]
    },
    {
      "cell_type": "code",
      "metadata": {
        "colab": {
          "base_uri": "https://localhost:8080/"
        },
        "id": "5nNJKDUI-816",
        "outputId": "47e42dc7-628d-4aa2-a45e-de474f25a9b0"
      },
      "source": [
        "print(subprocess.getoutput('ffmpeg'))"
      ],
      "execution_count": 3,
      "outputs": [
        {
          "output_type": "stream",
          "text": [
            "ffmpeg version 3.4.8-0ubuntu0.2 Copyright (c) 2000-2020 the FFmpeg developers\n",
            "  built with gcc 7 (Ubuntu 7.5.0-3ubuntu1~18.04)\n",
            "  configuration: --prefix=/usr --extra-version=0ubuntu0.2 --toolchain=hardened --libdir=/usr/lib/x86_64-linux-gnu --incdir=/usr/include/x86_64-linux-gnu --enable-gpl --disable-stripping --enable-avresample --enable-avisynth --enable-gnutls --enable-ladspa --enable-libass --enable-libbluray --enable-libbs2b --enable-libcaca --enable-libcdio --enable-libflite --enable-libfontconfig --enable-libfreetype --enable-libfribidi --enable-libgme --enable-libgsm --enable-libmp3lame --enable-libmysofa --enable-libopenjpeg --enable-libopenmpt --enable-libopus --enable-libpulse --enable-librubberband --enable-librsvg --enable-libshine --enable-libsnappy --enable-libsoxr --enable-libspeex --enable-libssh --enable-libtheora --enable-libtwolame --enable-libvorbis --enable-libvpx --enable-libwavpack --enable-libwebp --enable-libx265 --enable-libxml2 --enable-libxvid --enable-libzmq --enable-libzvbi --enable-omx --enable-openal --enable-opengl --enable-sdl2 --enable-libdc1394 --enable-libdrm --enable-libiec61883 --enable-chromaprint --enable-frei0r --enable-libopencv --enable-libx264 --enable-shared\n",
            "  libavutil      55. 78.100 / 55. 78.100\n",
            "  libavcodec     57.107.100 / 57.107.100\n",
            "  libavformat    57. 83.100 / 57. 83.100\n",
            "  libavdevice    57. 10.100 / 57. 10.100\n",
            "  libavfilter     6.107.100 /  6.107.100\n",
            "  libavresample   3.  7.  0 /  3.  7.  0\n",
            "  libswscale      4.  8.100 /  4.  8.100\n",
            "  libswresample   2.  9.100 /  2.  9.100\n",
            "  libpostproc    54.  7.100 / 54.  7.100\n",
            "Hyper fast Audio and Video encoder\n",
            "usage: ffmpeg [options] [[infile options] -i infile]... {[outfile options] outfile}...\n",
            "\n",
            "Use -h to get full help or, even better, run 'man ffmpeg'\n"
          ],
          "name": "stdout"
        }
      ]
    },
    {
      "cell_type": "markdown",
      "metadata": {
        "id": "XYbRz-QM_Q5Z"
      },
      "source": [
        "## Clone Github DECA repo github \n",
        "Repo link: https://github.com/YadiraF/DECA"
      ]
    },
    {
      "cell_type": "code",
      "metadata": {
        "colab": {
          "base_uri": "https://localhost:8080/"
        },
        "id": "5KLllWPc_OJv",
        "outputId": "82b96858-5729-426d-8885-7280215f2067"
      },
      "source": [
        "# clone git repo\n",
        "!git clone https://github.com/YadiraF/DECA"
      ],
      "execution_count": 4,
      "outputs": [
        {
          "output_type": "stream",
          "text": [
            "Cloning into 'DECA'...\n",
            "remote: Enumerating objects: 170, done.\u001b[K\n",
            "remote: Counting objects: 100% (153/153), done.\u001b[K\n",
            "remote: Compressing objects: 100% (119/119), done.\u001b[K\n",
            "remote: Total 170 (delta 46), reused 128 (delta 31), pack-reused 17\u001b[K\n",
            "Receiving objects: 100% (170/170), 18.45 MiB | 39.36 MiB/s, done.\n",
            "Resolving deltas: 100% (46/46), done.\n"
          ],
          "name": "stdout"
        }
      ]
    },
    {
      "cell_type": "markdown",
      "metadata": {
        "id": "phRMGlLx_iwh"
      },
      "source": [
        "## Install requirements"
      ]
    },
    {
      "cell_type": "markdown",
      "metadata": {
        "id": "giN7u3H2p7Ru"
      },
      "source": [
        "Create DECA directory"
      ]
    },
    {
      "cell_type": "code",
      "metadata": {
        "colab": {
          "base_uri": "https://localhost:8080/"
        },
        "id": "qlFq3VVR_gKV",
        "outputId": "034aace9-4b2d-49ab-fd43-8037df18450f"
      },
      "source": [
        "%cd DECA"
      ],
      "execution_count": 5,
      "outputs": [
        {
          "output_type": "stream",
          "text": [
            "/content/DECA\n"
          ],
          "name": "stdout"
        }
      ]
    },
    {
      "cell_type": "markdown",
      "metadata": {
        "id": "_Qay3oIOCNBk"
      },
      "source": [
        "**Install dependencies**"
      ]
    },
    {
      "cell_type": "code",
      "metadata": {
        "colab": {
          "base_uri": "https://localhost:8080/"
        },
        "id": "EjLLCa2oBRoe",
        "outputId": "c9cff5be-b86d-4294-a545-11ee53ad431d"
      },
      "source": [
        "!pip install -r requirements.txt"
      ],
      "execution_count": 6,
      "outputs": [
        {
          "output_type": "stream",
          "text": [
            "Requirement already satisfied: numpy>=1.18.5 in /usr/local/lib/python3.7/dist-packages (from -r requirements.txt (line 3)) (1.19.5)\n",
            "Requirement already satisfied: scipy>=1.4.1 in /usr/local/lib/python3.7/dist-packages (from -r requirements.txt (line 4)) (1.4.1)\n",
            "Collecting chumpy>=0.69\n",
            "\u001b[?25l  Downloading https://files.pythonhosted.org/packages/01/f7/865755c8bdb837841938de622e6c8b5cb6b1c933bde3bd3332f0cd4574f1/chumpy-0.70.tar.gz (50kB)\n",
            "\r\u001b[K     |██████▌                         | 10kB 22.0MB/s eta 0:00:01\r\u001b[K     |█████████████                   | 20kB 26.9MB/s eta 0:00:01\r\u001b[K     |███████████████████▍            | 30kB 22.7MB/s eta 0:00:01\r\u001b[K     |██████████████████████████      | 40kB 20.8MB/s eta 0:00:01\r\u001b[K     |████████████████████████████████| 51kB 6.4MB/s \n",
            "\u001b[?25hRequirement already satisfied: scikit-image>=0.15 in /usr/local/lib/python3.7/dist-packages (from -r requirements.txt (line 6)) (0.16.2)\n",
            "Requirement already satisfied: opencv-python>=4.1.1 in /usr/local/lib/python3.7/dist-packages (from -r requirements.txt (line 7)) (4.1.2.30)\n",
            "Collecting PyYAML>=5.1.1\n",
            "\u001b[?25l  Downloading https://files.pythonhosted.org/packages/7a/a5/393c087efdc78091afa2af9f1378762f9821c9c1d7a22c5753fb5ac5f97a/PyYAML-5.4.1-cp37-cp37m-manylinux1_x86_64.whl (636kB)\n",
            "\u001b[K     |████████████████████████████████| 645kB 22.5MB/s \n",
            "\u001b[?25hCollecting torch==1.6.0\n",
            "\u001b[?25l  Downloading https://files.pythonhosted.org/packages/5d/5e/35140615fc1f925023f489e71086a9ecc188053d263d3594237281284d82/torch-1.6.0-cp37-cp37m-manylinux1_x86_64.whl (748.8MB)\n",
            "\u001b[K     |████████████████████████████████| 748.8MB 24kB/s \n",
            "\u001b[?25hCollecting torchvision==0.7.0\n",
            "\u001b[?25l  Downloading https://files.pythonhosted.org/packages/4d/b5/60d5eb61f1880707a5749fea43e0ec76f27dfe69391cdec953ab5da5e676/torchvision-0.7.0-cp37-cp37m-manylinux1_x86_64.whl (5.9MB)\n",
            "\u001b[K     |████████████████████████████████| 5.9MB 47.0MB/s \n",
            "\u001b[?25hCollecting face-alignment\n",
            "  Downloading https://files.pythonhosted.org/packages/b0/20/d1328e2a014720fecc3b9b1cfc1e6ec3e83d81373014a2b167610ace42a9/face_alignment-1.3.3.tar.gz\n",
            "Requirement already satisfied: six>=1.11.0 in /usr/local/lib/python3.7/dist-packages (from chumpy>=0.69->-r requirements.txt (line 5)) (1.15.0)\n",
            "Requirement already satisfied: pillow>=4.3.0 in /usr/local/lib/python3.7/dist-packages (from scikit-image>=0.15->-r requirements.txt (line 6)) (7.1.2)\n",
            "Requirement already satisfied: matplotlib!=3.0.0,>=2.0.0 in /usr/local/lib/python3.7/dist-packages (from scikit-image>=0.15->-r requirements.txt (line 6)) (3.2.2)\n",
            "Requirement already satisfied: networkx>=2.0 in /usr/local/lib/python3.7/dist-packages (from scikit-image>=0.15->-r requirements.txt (line 6)) (2.5.1)\n",
            "Requirement already satisfied: imageio>=2.3.0 in /usr/local/lib/python3.7/dist-packages (from scikit-image>=0.15->-r requirements.txt (line 6)) (2.4.1)\n",
            "Requirement already satisfied: PyWavelets>=0.4.0 in /usr/local/lib/python3.7/dist-packages (from scikit-image>=0.15->-r requirements.txt (line 6)) (1.1.1)\n",
            "Requirement already satisfied: future in /usr/local/lib/python3.7/dist-packages (from torch==1.6.0->-r requirements.txt (line 10)) (0.16.0)\n",
            "Requirement already satisfied: tqdm in /usr/local/lib/python3.7/dist-packages (from face-alignment->-r requirements.txt (line 12)) (4.41.1)\n",
            "Requirement already satisfied: numba in /usr/local/lib/python3.7/dist-packages (from face-alignment->-r requirements.txt (line 12)) (0.51.2)\n",
            "Requirement already satisfied: python-dateutil>=2.1 in /usr/local/lib/python3.7/dist-packages (from matplotlib!=3.0.0,>=2.0.0->scikit-image>=0.15->-r requirements.txt (line 6)) (2.8.1)\n",
            "Requirement already satisfied: cycler>=0.10 in /usr/local/lib/python3.7/dist-packages (from matplotlib!=3.0.0,>=2.0.0->scikit-image>=0.15->-r requirements.txt (line 6)) (0.10.0)\n",
            "Requirement already satisfied: kiwisolver>=1.0.1 in /usr/local/lib/python3.7/dist-packages (from matplotlib!=3.0.0,>=2.0.0->scikit-image>=0.15->-r requirements.txt (line 6)) (1.3.1)\n",
            "Requirement already satisfied: pyparsing!=2.0.4,!=2.1.2,!=2.1.6,>=2.0.1 in /usr/local/lib/python3.7/dist-packages (from matplotlib!=3.0.0,>=2.0.0->scikit-image>=0.15->-r requirements.txt (line 6)) (2.4.7)\n",
            "Requirement already satisfied: decorator<5,>=4.3 in /usr/local/lib/python3.7/dist-packages (from networkx>=2.0->scikit-image>=0.15->-r requirements.txt (line 6)) (4.4.2)\n",
            "Requirement already satisfied: llvmlite<0.35,>=0.34.0.dev0 in /usr/local/lib/python3.7/dist-packages (from numba->face-alignment->-r requirements.txt (line 12)) (0.34.0)\n",
            "Requirement already satisfied: setuptools in /usr/local/lib/python3.7/dist-packages (from numba->face-alignment->-r requirements.txt (line 12)) (54.2.0)\n",
            "Building wheels for collected packages: chumpy, face-alignment\n",
            "  Building wheel for chumpy (setup.py) ... \u001b[?25l\u001b[?25hdone\n",
            "  Created wheel for chumpy: filename=chumpy-0.70-cp37-none-any.whl size=58291 sha256=db5326de9f640c2959f1a4026334a9811476b971647bd6bc5dd0b5c76a48591d\n",
            "  Stored in directory: /root/.cache/pip/wheels/0a/73/91/b8dbef9746a907c8c008fc194a9691224ca3371b55f16f1dbd\n",
            "  Building wheel for face-alignment (setup.py) ... \u001b[?25l\u001b[?25hdone\n",
            "  Created wheel for face-alignment: filename=face_alignment-1.3.3-py2.py3-none-any.whl size=27562 sha256=544295a0d6d3e7a696dd01a38c994514b293997cfe215348fe1f95734e90508e\n",
            "  Stored in directory: /root/.cache/pip/wheels/76/1b/f7/7c61075544ea85a866ec89d1b455b123dad18c13361c02ff2b\n",
            "Successfully built chumpy face-alignment\n",
            "\u001b[31mERROR: torchtext 0.9.1 has requirement torch==1.8.1, but you'll have torch 1.6.0 which is incompatible.\u001b[0m\n",
            "Installing collected packages: chumpy, PyYAML, torch, torchvision, face-alignment\n",
            "  Found existing installation: PyYAML 3.13\n",
            "    Uninstalling PyYAML-3.13:\n",
            "      Successfully uninstalled PyYAML-3.13\n",
            "  Found existing installation: torch 1.8.1+cu101\n",
            "    Uninstalling torch-1.8.1+cu101:\n",
            "      Successfully uninstalled torch-1.8.1+cu101\n",
            "  Found existing installation: torchvision 0.9.1+cu101\n",
            "    Uninstalling torchvision-0.9.1+cu101:\n",
            "      Successfully uninstalled torchvision-0.9.1+cu101\n",
            "Successfully installed PyYAML-5.4.1 chumpy-0.70 face-alignment-1.3.3 torch-1.6.0 torchvision-0.7.0\n"
          ],
          "name": "stdout"
        }
      ]
    },
    {
      "cell_type": "markdown",
      "metadata": {
        "id": "pjmMnWCKrHNH"
      },
      "source": [
        "**Adding the DECA path as pythonpath**"
      ]
    },
    {
      "cell_type": "code",
      "metadata": {
        "id": "7nG10hySB_KJ"
      },
      "source": [
        "!export PYTHONPATH=/content/DECA:$PYTHONPATH"
      ],
      "execution_count": 7,
      "outputs": []
    },
    {
      "cell_type": "markdown",
      "metadata": {
        "id": "nNoOe_Y_rQgZ"
      },
      "source": [
        "Install pytorch3d"
      ]
    },
    {
      "cell_type": "code",
      "metadata": {
        "colab": {
          "base_uri": "https://localhost:8080/"
        },
        "id": "CZbGrCx1D2ov",
        "outputId": "fba52488-ad63-415b-e179-0bd2d835adec"
      },
      "source": [
        "!pip install pytorch3d"
      ],
      "execution_count": 8,
      "outputs": [
        {
          "output_type": "stream",
          "text": [
            "Collecting pytorch3d\n",
            "\u001b[?25l  Downloading https://files.pythonhosted.org/packages/8e/fc/db31b55160e8d44250e98b1f65f6881af89e21ac7fe57f2658e4e162fdb5/pytorch3d-0.3.0-cp37-cp37m-manylinux1_x86_64.whl (30.0MB)\n",
            "\u001b[K     |████████████████████████████████| 30.0MB 104kB/s \n",
            "\u001b[?25hCollecting fvcore\n",
            "\u001b[?25l  Downloading https://files.pythonhosted.org/packages/93/aa/6bac1efae26bca55f9dd6b974f51601a6f9ce8dd437869d52dfb3f92841b/fvcore-0.1.5.post20210415.tar.gz (48kB)\n",
            "\u001b[K     |████████████████████████████████| 51kB 6.6MB/s \n",
            "\u001b[?25hRequirement already satisfied: torchvision>=0.4 in /usr/local/lib/python3.7/dist-packages (from pytorch3d) (0.7.0)\n",
            "Requirement already satisfied: numpy in /usr/local/lib/python3.7/dist-packages (from fvcore->pytorch3d) (1.19.5)\n",
            "Collecting yacs>=0.1.6\n",
            "  Downloading https://files.pythonhosted.org/packages/38/4f/fe9a4d472aa867878ce3bb7efb16654c5d63672b86dc0e6e953a67018433/yacs-0.1.8-py3-none-any.whl\n",
            "Requirement already satisfied: pyyaml>=5.1 in /usr/local/lib/python3.7/dist-packages (from fvcore->pytorch3d) (5.4.1)\n",
            "Requirement already satisfied: tqdm in /usr/local/lib/python3.7/dist-packages (from fvcore->pytorch3d) (4.41.1)\n",
            "Requirement already satisfied: termcolor>=1.1 in /usr/local/lib/python3.7/dist-packages (from fvcore->pytorch3d) (1.1.0)\n",
            "Requirement already satisfied: Pillow in /usr/local/lib/python3.7/dist-packages (from fvcore->pytorch3d) (7.1.2)\n",
            "Requirement already satisfied: tabulate in /usr/local/lib/python3.7/dist-packages (from fvcore->pytorch3d) (0.8.9)\n",
            "Collecting iopath>=0.1.7\n",
            "  Downloading https://files.pythonhosted.org/packages/21/d0/22104caed16fa41382702fed959f4a9b088b2f905e7a82e4483180a2ec2a/iopath-0.1.8-py3-none-any.whl\n",
            "Requirement already satisfied: torch==1.6.0 in /usr/local/lib/python3.7/dist-packages (from torchvision>=0.4->pytorch3d) (1.6.0)\n",
            "Collecting portalocker\n",
            "  Downloading https://files.pythonhosted.org/packages/68/33/cb524f4de298509927b90aa5ee34767b9a2b93e663cf354b2a3efa2b4acd/portalocker-2.3.0-py2.py3-none-any.whl\n",
            "Requirement already satisfied: future in /usr/local/lib/python3.7/dist-packages (from torch==1.6.0->torchvision>=0.4->pytorch3d) (0.16.0)\n",
            "Building wheels for collected packages: fvcore\n",
            "  Building wheel for fvcore (setup.py) ... \u001b[?25l\u001b[?25hdone\n",
            "  Created wheel for fvcore: filename=fvcore-0.1.5.post20210415-cp37-none-any.whl size=59310 sha256=500d07ac39cd7ebbb083f135364ed18f9d4a94fe16ebc885c4b98761f685ae8e\n",
            "  Stored in directory: /root/.cache/pip/wheels/a3/51/39/6bce45bcb56ba30ed7ea1386ddc22bb5853fa9887c080145e8\n",
            "Successfully built fvcore\n",
            "Installing collected packages: yacs, portalocker, iopath, fvcore, pytorch3d\n",
            "Successfully installed fvcore-0.1.5.post20210415 iopath-0.1.8 portalocker-2.3.0 pytorch3d-0.3.0 yacs-0.1.8\n"
          ],
          "name": "stdout"
        }
      ]
    },
    {
      "cell_type": "markdown",
      "metadata": {
        "id": "ZkTZO5TWKaqK"
      },
      "source": [
        "**Mount drive**\n",
        "\n",
        "Mounting Drive folder where the models are stored.\n",
        "\n",
        "Path: **'/content/drive/MyDrive/3D vision'**"
      ]
    },
    {
      "cell_type": "code",
      "metadata": {
        "id": "UKd9UNmDKaQc"
      },
      "source": [
        "import zipfile\n",
        "import os\n",
        "import shutil"
      ],
      "execution_count": 9,
      "outputs": []
    },
    {
      "cell_type": "markdown",
      "metadata": {
        "id": "J4q4nxdOrh0N"
      },
      "source": [
        "**Defining unzipping function**"
      ]
    },
    {
      "cell_type": "code",
      "metadata": {
        "id": "TcShcjVzRqXH"
      },
      "source": [
        "def unzip(zip_file, content_dir):\n",
        "  if not os.path.isdir(content_dir):\n",
        "    os.mkdir(content_dir)\n",
        "\n",
        "  # unzipping\n",
        "  with zipfile.ZipFile(zip_file, 'r') as zip_ref:\n",
        "    zip_ref.extractall(content_dir)\n"
      ],
      "execution_count": 10,
      "outputs": []
    },
    {
      "cell_type": "markdown",
      "metadata": {
        "id": "ssdV-44IsKXA"
      },
      "source": [
        "**Load Models**\n",
        "\n",
        "1. Unzip Flame model\n",
        "2. Load DECA trained model\n",
        "\n",
        "* Copying unzipped Flame(2020) Model file (generic_model.pkl) to /.data folder\n",
        "* Similarly copy zip trained DECA model weights to /.data folder in DECA directory"
      ]
    },
    {
      "cell_type": "code",
      "metadata": {
        "id": "qwu4_F3dSQxU"
      },
      "source": [
        "# content directory\n",
        "content_dir_2 = '/content/Flame_model_2020'\n",
        "\n",
        "# zip\n",
        "zip_file_2 = '/content/drive/MyDrive/3D vision/FLAME2020.zip' \n",
        "\n",
        "# unzipping FLAME2020 zip\n",
        "unzip(zip_file_2, content_dir_2)"
      ],
      "execution_count": 11,
      "outputs": []
    },
    {
      "cell_type": "markdown",
      "metadata": {
        "id": "-CQgXAlOs02h"
      },
      "source": [
        "Copying generic_model.pkl to ./data"
      ]
    },
    {
      "cell_type": "code",
      "metadata": {
        "id": "TMbbib41Syi2",
        "colab": {
          "base_uri": "https://localhost:8080/",
          "height": 35
        },
        "outputId": "e636d95b-d71d-4441-cf3b-7167ee4e889f"
      },
      "source": [
        "shutil.copy('/content/Flame_model_2020/generic_model.pkl','/content/DECA/data')"
      ],
      "execution_count": 12,
      "outputs": [
        {
          "output_type": "execute_result",
          "data": {
            "application/vnd.google.colaboratory.intrinsic+json": {
              "type": "string"
            },
            "text/plain": [
              "'/content/DECA/data/generic_model.pkl'"
            ]
          },
          "metadata": {
            "tags": []
          },
          "execution_count": 12
        }
      ]
    },
    {
      "cell_type": "markdown",
      "metadata": {
        "id": "OHsxiKTfty3m"
      },
      "source": [
        "Copying DECA model to ./data"
      ]
    },
    {
      "cell_type": "code",
      "metadata": {
        "id": "oqI4ji8WTtCX",
        "colab": {
          "base_uri": "https://localhost:8080/",
          "height": 35
        },
        "outputId": "dc420489-e17f-4c66-c484-0f82db8a1dfb"
      },
      "source": [
        "shutil.copy('/content/drive/MyDrive/3D vision/deca_model.tar','/content/DECA/data')"
      ],
      "execution_count": 13,
      "outputs": [
        {
          "output_type": "execute_result",
          "data": {
            "application/vnd.google.colaboratory.intrinsic+json": {
              "type": "string"
            },
            "text/plain": [
              "'/content/DECA/data/deca_model.tar'"
            ]
          },
          "metadata": {
            "tags": []
          },
          "execution_count": 13
        }
      ]
    },
    {
      "cell_type": "markdown",
      "metadata": {
        "id": "fi-ywcYo0YXE"
      },
      "source": [
        "## Reconstructing the Demo\n",
        "\n",
        "1. 3D mesh reconstruction \n",
        "2. COarse shape\n",
        "3. Detail shape \n",
        "4. Albedo map\n",
        "5. Displays UV displacement map"
      ]
    },
    {
      "cell_type": "code",
      "metadata": {
        "colab": {
          "base_uri": "https://localhost:8080/"
        },
        "id": "loPla4jMFJjw",
        "outputId": "9a3d613e-bd62-4b17-b242-fb2033ff7213"
      },
      "source": [
        "# mention input image path\n",
        "# output result path\n",
        "!python demos/demo_reconstruct.py -i /content/Input_img --saveKpt True --saveDepth True --saveObj True --saveImages True"
      ],
      "execution_count": 14,
      "outputs": [
        {
          "output_type": "stream",
          "text": [
            "please check the test path: /content/Input_img\n"
          ],
          "name": "stdout"
        }
      ]
    },
    {
      "cell_type": "code",
      "metadata": {
        "id": "hD4JbZupIKht",
        "colab": {
          "base_uri": "https://localhost:8080/"
        },
        "outputId": "b7ee6902-0b3a-4b8d-d427-2f1547411db4"
      },
      "source": [
        "!python demos/demo_teaser.py"
      ],
      "execution_count": null,
      "outputs": [
        {
          "output_type": "stream",
          "text": [
            "total 3 images\n",
            "total 9 images\n",
            "fc.weight  not available in reconstructed resnet\n",
            "fc.bias  not available in reconstructed resnet\n",
            "fc.weight  not available in reconstructed resnet\n",
            "fc.bias  not available in reconstructed resnet\n",
            "creating the FLAME Decoder\n",
            "trained model found. load /content/DECA/data/deca_model.tar\n",
            "/usr/local/lib/python3.7/dist-packages/pytorch3d/io/obj_io.py:457: UserWarning: Mtl file does not exist: /content/DECA/data/template.mtl\n",
            "  warnings.warn(f\"Mtl file does not exist: {f}\")\n",
            "/usr/local/lib/python3.7/dist-packages/torch/nn/functional.py:3121: UserWarning: Default upsampling behavior when mode=bilinear is changed to align_corners=False since 0.4.0. Please specify align_corners=True if the old behavior is desired. See the documentation of nn.Upsample for details.\n",
            "  \"See the documentation of nn.Upsample for details.\".format(mode))\n",
            "/usr/local/lib/python3.7/dist-packages/torch/nn/functional.py:3384: UserWarning: Default grid_sample and affine_grid behavior has changed to align_corners=False since 1.3.0. Please specify align_corners=True if the old behavior is desired. See the documentation of grid_sample for details.\n",
            "  warnings.warn(\"Default grid_sample and affine_grid behavior has changed \"\n",
            "WARNING:root:Lossy conversion from float64 to uint8. Range [0, 1]. Convert image to uint8 prior to saving to suppress this warning.\n",
            "WARNING:root:Lossy conversion from float64 to uint8. Range [0, 1]. Convert image to uint8 prior to saving to suppress this warning.\n",
            "WARNING:root:Lossy conversion from float64 to uint8. Range [0, 1]. Convert image to uint8 prior to saving to suppress this warning.\n",
            "WARNING:root:Lossy conversion from float64 to uint8. Range [0, 1]. Convert image to uint8 prior to saving to suppress this warning.\n",
            "WARNING:root:Lossy conversion from float64 to uint8. Range [0, 1]. Convert image to uint8 prior to saving to suppress this warning.\n",
            "WARNING:root:Lossy conversion from float64 to uint8. Range [0, 1]. Convert image to uint8 prior to saving to suppress this warning.\n",
            "WARNING:root:Lossy conversion from float64 to uint8. Range [0, 1]. Convert image to uint8 prior to saving to suppress this warning.\n",
            "WARNING:root:Lossy conversion from float64 to uint8. Range [0, 1]. Convert image to uint8 prior to saving to suppress this warning.\n",
            "WARNING:root:Lossy conversion from float64 to uint8. Range [0, 1]. Convert image to uint8 prior to saving to suppress this warning.\n",
            "WARNING:root:Lossy conversion from float64 to uint8. Range [0, 1]. Convert image to uint8 prior to saving to suppress this warning.\n",
            "WARNING:root:Lossy conversion from float64 to uint8. Range [0, 1]. Convert image to uint8 prior to saving to suppress this warning.\n",
            "WARNING:root:Lossy conversion from float64 to uint8. Range [0, 1]. Convert image to uint8 prior to saving to suppress this warning.\n",
            "WARNING:root:Lossy conversion from float64 to uint8. Range [0, 1]. Convert image to uint8 prior to saving to suppress this warning.\n",
            "WARNING:root:Lossy conversion from float64 to uint8. Range [0, 1]. Convert image to uint8 prior to saving to suppress this warning.\n",
            "WARNING:root:Lossy conversion from float64 to uint8. Range [0, 1]. Convert image to uint8 prior to saving to suppress this warning.\n",
            "WARNING:root:Lossy conversion from float64 to uint8. Range [0, 1]. Convert image to uint8 prior to saving to suppress this warning.\n",
            "WARNING:root:Lossy conversion from float64 to uint8. Range [0, 1]. Convert image to uint8 prior to saving to suppress this warning.\n",
            "WARNING:root:Lossy conversion from float64 to uint8. Range [0, 1]. Convert image to uint8 prior to saving to suppress this warning.\n",
            "WARNING:root:Lossy conversion from float64 to uint8. Range [0, 1]. Convert image to uint8 prior to saving to suppress this warning.\n",
            "WARNING:root:Lossy conversion from float64 to uint8. Range [0, 1]. Convert image to uint8 prior to saving to suppress this warning.\n",
            "WARNING:root:Lossy conversion from float64 to uint8. Range [0, 1]. Convert image to uint8 prior to saving to suppress this warning.\n",
            "WARNING:root:Lossy conversion from float64 to uint8. Range [0, 1]. Convert image to uint8 prior to saving to suppress this warning.\n",
            "WARNING:root:Lossy conversion from float64 to uint8. Range [0, 1]. Convert image to uint8 prior to saving to suppress this warning.\n",
            "WARNING:root:Lossy conversion from float64 to uint8. Range [0, 1]. Convert image to uint8 prior to saving to suppress this warning.\n",
            "-- please check the teaser figure in TestSamples/teaser/results\n"
          ],
          "name": "stdout"
        }
      ]
    },
    {
      "cell_type": "code",
      "metadata": {
        "id": "yvXTYxEoWRPb",
        "colab": {
          "base_uri": "https://localhost:8080/"
        },
        "outputId": "151dc104-c7ca-464a-b5b9-6edbf09cada3"
      },
      "source": [
        "!python demos/demo_teaser.py"
      ],
      "execution_count": null,
      "outputs": [
        {
          "output_type": "stream",
          "text": [
            "total 3 images\n",
            "total 9 images\n",
            "fc.weight  not available in reconstructed resnet\n",
            "fc.bias  not available in reconstructed resnet\n",
            "fc.weight  not available in reconstructed resnet\n",
            "fc.bias  not available in reconstructed resnet\n",
            "creating the FLAME Decoder\n",
            "trained model found. load /content/DECA/data/deca_model.tar\n",
            "/usr/local/lib/python3.7/dist-packages/pytorch3d/io/obj_io.py:457: UserWarning: Mtl file does not exist: /content/DECA/data/template.mtl\n",
            "  warnings.warn(f\"Mtl file does not exist: {f}\")\n",
            "/usr/local/lib/python3.7/dist-packages/torch/nn/functional.py:3121: UserWarning: Default upsampling behavior when mode=bilinear is changed to align_corners=False since 0.4.0. Please specify align_corners=True if the old behavior is desired. See the documentation of nn.Upsample for details.\n",
            "  \"See the documentation of nn.Upsample for details.\".format(mode))\n",
            "/usr/local/lib/python3.7/dist-packages/torch/nn/functional.py:3384: UserWarning: Default grid_sample and affine_grid behavior has changed to align_corners=False since 1.3.0. Please specify align_corners=True if the old behavior is desired. See the documentation of grid_sample for details.\n",
            "  warnings.warn(\"Default grid_sample and affine_grid behavior has changed \"\n",
            "Traceback (most recent call last):\n",
            "  File \"demos/demo_teaser.py\", line 126, in <module>\n",
            "  File \"demos/demo_teaser.py\", line 63, in main\n",
            "    _, visdict_view = deca.decode(codedict)   \n",
            "  File \"/usr/local/lib/python3.7/dist-packages/torch/autograd/grad_mode.py\", line 15, in decorate_context\n",
            "    return func(*args, **kwargs)\n",
            "  File \"/content/DECA/decalib/deca.py\", line 178, in decode\n",
            "    uv_detail_normals = self.displacement2normal(uv_z, verts, ops['normals'])\n",
            "  File \"/content/DECA/decalib/deca.py\", line 118, in displacement2normal\n",
            "    uv_coarse_normals = self.render.world2uv(coarse_normals).detach()\n",
            "  File \"/content/DECA/decalib/utils/renderer.py\", line 338, in world2uv\n",
            "    face_vertices = util.face_vertices(vertices, self.faces.expand(batch_size, -1, -1))\n",
            "  File \"/content/DECA/decalib/utils/util.py\", line 191, in face_vertices\n",
            "    return vertices[faces.long()]\n",
            "KeyboardInterrupt\n"
          ],
          "name": "stdout"
        }
      ]
    },
    {
      "cell_type": "code",
      "metadata": {
        "id": "cgC1pqHgwxCp"
      },
      "source": [
        ""
      ],
      "execution_count": null,
      "outputs": []
    }
  ]
}